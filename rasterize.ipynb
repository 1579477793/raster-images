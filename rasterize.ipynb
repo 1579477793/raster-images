{
 "cells": [
  {
   "cell_type": "code",
   "execution_count": 1,
   "metadata": {
    "collapsed": true
   },
   "outputs": [],
   "source": [
    "import cv2\n",
    "import os\n",
    "import numpy as np\n",
    "import matplotlib.pyplot as plt\n",
    "import matplotlib.patches as mpatches\n",
    "from skimage import data,segmentation,measure,morphology,color"
   ]
  },
  {
   "cell_type": "code",
   "execution_count": 39,
   "metadata": {},
   "outputs": [
    {
     "name": "stdout",
     "output_type": "stream",
     "text": [
      "连通区域个数： 2\n",
      "第 0 个：\n",
      "[  66   60   52   85 1896]\n",
      "第 1 个：\n",
      "[  83  158   48   56 1880]\n"
     ]
    },
    {
     "data": {
      "image/png": "[encoded data removed]",
      "text/plain": [
       "<matplotlib.figure.Figure at 0x13ce3978>"
      ]
     },
     "metadata": {
      "needs_background": "light"
     },
     "output_type": "display_data"
    }
   ],
   "source": [
    "imgDir = 'D:/20190801/mask_test'\n",
    "imgs = os.listdir(imgDir)\n",
    " \n",
    "srcImg = cv2.imread(imgDir+\"/\"+imgs[2]) # 三维\n",
    "srcImg = cv2.resize(srcImg,(224,224))\n",
    "\n",
    "GrayImage=cv2.cvtColor(srcImg,cv2.COLOR_BGR2GRAY) # 二维\n",
    "\n",
    "_, labels, stats, centroids = cv2.connectedComponentsWithStats(GrayImage)\n",
    "print('连通区域个数：',stats.shape[0]-1)\n",
    "for i in range(stats.shape[0]-1):\n",
    "    # print(type(i))\n",
    "    print('第 %d 个：'%i)\n",
    "    print(stats[i+1])  #\n",
    "\n",
    "fig,ax0 = plt.subplots(1,1, figsize=(8, 6))\n",
    "ax0.imshow(GrayImage,plt.cm.gray)\n",
    "\n",
    "rect = mpatches.Rectangle((stats[1][0], stats[1][1]), stats[1][2], stats[1][3],fill=False, edgecolor='red', linewidth=2)\n",
    "ax0.add_patch(rect)\n",
    "fig.tight_layout()\n",
    "plt.show()\n"
   ]
  },
  {
   "cell_type": "code",
   "execution_count": 51,
   "metadata": {},
   "outputs": [
    {
     "name": "stdout",
     "output_type": "stream",
     "text": [
      "255\n"
     ]
    },
    {
     "data": {
      "image/png": "[encoded data removed]",
      "text/plain": [
       "<matplotlib.figure.Figure at 0x139cb2b0>"
      ]
     },
     "metadata": {
      "needs_background": "light"
     },
     "output_type": "display_data"
    },
    {
     "name": "stdout",
     "output_type": "stream",
     "text": [
      "[80, 90, 90, 100, 100, 110, 110, 120, 120, 120, 130, 130, 159, 159, 159, 169, 169, 169, 179, 179, 179, 179, 189, 189, 189, 189, 199, 199] [76, 66, 76, 76, 96, 86, 96, 86, 96, 106, 86, 96, 94, 104, 114, 94, 104, 114, 84, 94, 104, 114, 84, 94, 104, 114, 94, 104] [20, 10, 20, 20, 20, 20, 20, 10, 20, 20, 10, 10, 20, 20, 20, 20, 20, 20, 20, 20, 20, 20, 10, 10, 20, 20, 10, 10] [10, 20, 10, 10, 10, 20, 10, 20, 10, 10, 20, 20, 20, 20, 10, 20, 20, 10, 20, 20, 10, 10, 20, 20, 10, 10, 20, 20]\n"
     ]
    }
   ],
   "source": [
    "m,n = GrayImage.shape\n",
    "# retval,image_bin=cv2.threshold(GrayImage,254,255,cv2.THRESH_BINARY_INV)\n",
    "\n",
    "print(GrayImage[177,110])\n",
    "label_image =measure.label(GrayImage)\n",
    "plt.figure()\n",
    "plt.imshow(label_image)\n",
    "plt.show()\n",
    "\n",
    "x = []\n",
    "y = []\n",
    "w = []\n",
    "h = []\n",
    "for region in measure.regionprops(label_image): #循环得到每一个连通区域属性集\n",
    "\n",
    "    if  region.area < 20:\n",
    "        continue\n",
    "    else:\n",
    "\n",
    "        cell = 20 # 每次扩大5，计算iou\n",
    "        ratio = 0.5\n",
    "        I1 = 0\n",
    "        I2 = 0\n",
    "        minr, minc, maxr, maxc = region.bbox\n",
    "        #i = minr\n",
    "        #j = minc # 初始化\n",
    "        \n",
    "        #while i < maxr:\n",
    "            #while j < maxc:\n",
    "        for i in range(minr,maxr,10):\n",
    "            for j in range(minc,maxc,10):\n",
    "                # for cell in range(20,100,5):\n",
    "                #    if i+cell < maxr:\n",
    "                I1_1 = GrayImage[i:i+cell,j:j+cell] # 第一个区域,设定为方形\n",
    "                I1_2 = GrayImage[i:i+cell,j:round(j+cell*ratio)] # 第二个区域，2：1\n",
    "                I1_3 = GrayImage[i:round(i+cell*ratio),j:j+cell] # 第三个区域，1：2\n",
    "\n",
    "                I = [I1_1,I1_2,I1_3]\n",
    "                I2 = cell*cell*255 # \n",
    "                \n",
    "                iou1 = I1_1.sum()/I2\n",
    "                iou2 = I1_2.sum()/(I2*0.5)\n",
    "                iou3 = I1_3.sum()/(I2*0.5)\n",
    "\n",
    "                iou = [iou1,iou2,iou3]\n",
    "                \n",
    "                loc = iou.index(max(iou))\n",
    "\n",
    "                if max(iou) > 0.8 : # 交并比\n",
    "                    x.append(i)\n",
    "                    y.append(j)\n",
    "                    w.append(I[loc].shape[0])\n",
    "                    h.append(I[loc].shape[1])\n",
    "\n",
    "print(x,y,w,h) "
   ]
  },
  {
   "cell_type": "code",
   "execution_count": 52,
   "metadata": {},
   "outputs": [
    {
     "data": {
      "image/png": "[encoded data removed]",
      "text/plain": [
       "<matplotlib.figure.Figure at 0x13d09080>"
      ]
     },
     "metadata": {
      "needs_background": "light"
     },
     "output_type": "display_data"
    }
   ],
   "source": [
    "fig,ax0= plt.subplots(1,1, figsize=(8, 6))\n",
    "ax0.imshow(GrayImage,plt.cm.gray)\n",
    "\n",
    "for i in range(len(x)): # len(x)\n",
    "    rect = mpatches.Rectangle((y[i], x[i]),h[i], w[i],fill=False, edgecolor='red', linewidth=2)\n",
    "    ax0.add_patch(rect)\n",
    "fig.tight_layout()\n",
    "plt.show()"
   ]
  },
  {
   "cell_type": "code",
   "execution_count": null,
   "metadata": {
    "collapsed": true
   },
   "outputs": [],
   "source": []
  }
 ],
 "metadata": {
  "kernelspec": {
   "display_name": "Python 3",
   "language": "python",
   "name": "python3"
  },
  "language_info": {
   "codemirror_mode": {
    "name": "ipython",
    "version": 3
   },
   "file_extension": ".py",
   "mimetype": "text/x-python",
   "name": "python",
   "nbconvert_exporter": "python",
   "pygments_lexer": "ipython3",
   "version": "3.6.8"
  }
 },
 "nbformat": 4,
 "nbformat_minor": 2
}
